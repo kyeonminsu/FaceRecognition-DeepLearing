{
 "cells": [
  {
   "cell_type": "code",
   "execution_count": 1,
   "metadata": {},
   "outputs": [
    {
     "name": "stderr",
     "output_type": "stream",
     "text": [
      "Using TensorFlow backend.\n"
     ]
    }
   ],
   "source": [
    "from keras.models import Model\n",
    "from keras.layers import Dense, Activation\n",
    "from keras.datasets import mnist\n",
    "from keras.optimizers import Adam\n",
    "from keras.models import Sequential\n",
    "from keras import backend as K\n",
    "\n",
    "import numpy as np\n",
    "import matplotlib.pyplot as plt"
   ]
  },
  {
   "cell_type": "code",
   "execution_count": 8,
   "metadata": {},
   "outputs": [],
   "source": [
    "def autoencode(model):\n",
    "    \n",
    "    decoded_imgs = model.predict(x_test)\n",
    "    \n",
    "    get_3rd_layer_output = K.function([model.layers[0].input], [model.layers[1].output])\n",
    "    compressed = get_3rd_layer_output([x_test])\n",
    "    \n",
    "    return compressed\n",
    "\n",
    "def test_restoration(model):\n",
    "    \n",
    "    decoded_imgs = model.predict(x_test)\n",
    "    get_3rd_layer_output = K.function([model.layers[0].input], [model.layers[1].output])\n",
    "    \n",
    "    for i in range(2):\n",
    "        \n",
    "        print(\"original: \")\n",
    "        plt.imshow(x_test[i].reshape(28, 28))\n",
    "        plt.gray()\n",
    "        plt.show()\n",
    "        \n",
    "        #-------------------\n",
    "        \n",
    "        print(\"reconstructed: \")\n",
    "        plt.imshow(decoded_imgs[i].reshape(28, 28))\n",
    "        plt.gray()\n",
    "        plt.show()\n",
    "        \n",
    "        #-------------------\n",
    "        \n",
    "        print(\"compressed: \")\n",
    "        current_compressed = get_3rd_layer_output([x_test[i:i+1]])[0][0]\n",
    "        plt.imshow(current_compressed.reshape(8, 4))\n",
    "        plt.gray()\n",
    "        plt.show()\n",
    "        #print(current_compressed)"
   ]
  },
  {
   "cell_type": "code",
   "execution_count": 3,
   "metadata": {},
   "outputs": [],
   "source": [
    "(x_train, y_train), (x_test, y_test) = mnist.load_data()"
   ]
  },
  {
   "cell_type": "code",
   "execution_count": 4,
   "metadata": {},
   "outputs": [],
   "source": [
    "x_train = x_train.astype('float32') / 255.0\n",
    "x_test = x_test.astype('float32') / 255.0\n",
    "x_train = x_train.reshape((len(x_train), np.prod(x_train.shape[1:])))\n",
    "x_test = x_test.reshape((len(x_test), np.prod(x_test.shape[1:])))\n",
    "\n",
    "instances, input_features = x_train.shape"
   ]
  },
  {
   "cell_type": "code",
   "execution_count": 5,
   "metadata": {},
   "outputs": [],
   "source": [
    "model = Sequential()\n",
    "model.add(Dense(128, activation='relu', input_shape=(input_features,)))\n",
    "model.add(Dense(32, activation='relu'))\n",
    "model.add(Dense(128, activation='relu'))\n",
    "model.add(Dense(input_features, activation='sigmoid'))"
   ]
  },
  {
   "cell_type": "code",
   "execution_count": 6,
   "metadata": {},
   "outputs": [
    {
     "name": "stdout",
     "output_type": "stream",
     "text": [
      "Train on 60000 samples, validate on 10000 samples\n",
      "Epoch 1/3\n",
      "60000/60000 [==============================] - 12s 198us/step - loss: 0.1391 - val_loss: 0.1027\n",
      "Epoch 2/3\n",
      "60000/60000 [==============================] - 11s 177us/step - loss: 0.0992 - val_loss: 0.0946\n",
      "Epoch 3/3\n",
      "60000/60000 [==============================] - 11s 182us/step - loss: 0.0940 - val_loss: 0.0908\n"
     ]
    },
    {
     "data": {
      "text/plain": [
       "<keras.callbacks.History at 0x2c3ed19de48>"
      ]
     },
     "execution_count": 6,
     "metadata": {},
     "output_type": "execute_result"
    }
   ],
   "source": [
    "model.compile(loss='binary_crossentropy', optimizer='adam')\n",
    "model.fit(x_train, x_train, epochs=3, validation_data=(x_test, x_test))"
   ]
  },
  {
   "cell_type": "code",
   "execution_count": null,
   "metadata": {},
   "outputs": [],
   "source": [
    "#model.summary()"
   ]
  },
  {
   "cell_type": "code",
   "execution_count": null,
   "metadata": {},
   "outputs": [],
   "source": [
    "layers = len(model.layers)\n",
    "\n",
    "for i in range(layers):\n",
    "    inp, out = model.layers[i].output.get_shape()\n",
    "    print(i,\". \",model.layers[i].output,\" (\",out,\")\")"
   ]
  },
  {
   "cell_type": "code",
   "execution_count": null,
   "metadata": {},
   "outputs": [],
   "source": [
    "weights = model.get_weights()\n",
    "\n",
    "for i in range(len(weights)):\n",
    "    print(i, \". \", len(weights[i]))"
   ]
  },
  {
   "cell_type": "code",
   "execution_count": 9,
   "metadata": {
    "scrolled": false
   },
   "outputs": [
    {
     "name": "stdout",
     "output_type": "stream",
     "text": [
      "original: \n"
     ]
    },
    {
     "data": {
      "image/png": "[encoded data removed]",
      "text/plain": [
       "<matplotlib.figure.Figure at 0x2c3ed79c198>"
      ]
     },
     "metadata": {},
     "output_type": "display_data"
    },
    {
     "name": "stdout",
     "output_type": "stream",
     "text": [
      "reconstructed: \n"
     ]
    },
    {
     "data": {
      "image/png": "[encoded data removed]",
      "text/plain": [
       "<matplotlib.figure.Figure at 0x2c3ed9b1668>"
      ]
     },
     "metadata": {},
     "output_type": "display_data"
    },
    {
     "name": "stdout",
     "output_type": "stream",
     "text": [
      "compressed: \n"
     ]
    },
    {
     "data": {
      "image/png": "[encoded data removed]",
      "text/plain": [
       "<matplotlib.figure.Figure at 0x2c3ed94a3c8>"
      ]
     },
     "metadata": {},
     "output_type": "display_data"
    },
    {
     "name": "stdout",
     "output_type": "stream",
     "text": [
      "original: \n"
     ]
    },
    {
     "data": {
      "image/png": "[encoded data removed]",
      "text/plain": [
       "<matplotlib.figure.Figure at 0x2c3eee416d8>"
      ]
     },
     "metadata": {},
     "output_type": "display_data"
    },
    {
     "name": "stdout",
     "output_type": "stream",
     "text": [
      "reconstructed: \n"
     ]
    },
    {
     "data": {
      "image/png": "[encoded data removed]",
      "text/plain": [
       "<matplotlib.figure.Figure at 0x2c3ed960470>"
      ]
     },
     "metadata": {},
     "output_type": "display_data"
    },
    {
     "name": "stdout",
     "output_type": "stream",
     "text": [
      "compressed: \n"
     ]
    },
    {
     "data": {
      "image/png": "[encoded data removed]",
      "text/plain": [
       "<matplotlib.figure.Figure at 0x2c3eeec3e80>"
      ]
     },
     "metadata": {},
     "output_type": "display_data"
    }
   ],
   "source": [
    "com = autoencode(model)\n",
    "\n",
    "test_restoration(model)"
   ]
  },
  {
   "cell_type": "code",
   "execution_count": 10,
   "metadata": {},
   "outputs": [],
   "source": [
    "decoder = Sequential()\n",
    "decoder.add(Dense(128, activation='relu', input_shape=(32,)))\n",
    "decoder.add(Dense(input_features, activation='sigmoid'))\n",
    "#decoder.summary()"
   ]
  },
  {
   "cell_type": "code",
   "execution_count": 11,
   "metadata": {},
   "outputs": [
    {
     "name": "stdout",
     "output_type": "stream",
     "text": [
      "32\n",
      "128\n",
      "128\n",
      "784\n"
     ]
    }
   ],
   "source": [
    "decoder_weights = decoder.get_weights()\n",
    "\n",
    "for i in range(len(decoder_weights)):\n",
    "    print(len(decoder_weights[i]))"
   ]
  },
  {
   "cell_type": "code",
   "execution_count": 12,
   "metadata": {},
   "outputs": [
    {
     "name": "stdout",
     "output_type": "stream",
     "text": [
      "32\n",
      "128\n",
      "128\n",
      "784\n"
     ]
    }
   ],
   "source": [
    "weights = model.get_weights()\n",
    "\n",
    "temp_weights = []\n",
    "\n",
    "for i in range(4, 8):\n",
    "    temp_weights.append(weights[i])\n",
    "\n",
    "for i in range(len(temp_weights)):\n",
    "    print(len(temp_weights[i]))\n",
    "\n",
    "decoder.set_weights(temp_weights)"
   ]
  },
  {
   "cell_type": "code",
   "execution_count": 13,
   "metadata": {},
   "outputs": [
    {
     "name": "stdout",
     "output_type": "stream",
     "text": [
      "(32,)\n"
     ]
    }
   ],
   "source": [
    "#copy these matrix from the compressed representation value\n",
    "sample = np.array([2.59521651,5.63147545,2.05743384,4.32667685,6.58895254,0.0,3.75777841,15.93504238,8.22563648,10.76218987,9.22686291,7.61534977,8.59453583,7.27693939,0.0,0.0,6.01428413,5.45331526,4.60282326,5.23728228,6.86480665,13.43490028,5.81025648,10.99352455,10.77216816,2.27521825,5.83731318,7.09324121,3.53731441,6.28301096,4.87098885,3.07779741])\n",
    "print(sample.shape)"
   ]
  },
  {
   "cell_type": "code",
   "execution_count": 15,
   "metadata": {
    "scrolled": true
   },
   "outputs": [
    {
     "data": {
      "text/plain": [
       "'restored = decoder.predict(sample.reshape(1,32))\\n\\nplt.imshow(restored.reshape(28, 28))\\nplt.show()'"
      ]
     },
     "execution_count": 15,
     "metadata": {},
     "output_type": "execute_result"
    }
   ],
   "source": [
    "\"\"\"restored = decoder.predict(sample.reshape(1,32))\n",
    "\n",
    "plt.imshow(restored.reshape(28, 28))\n",
    "plt.show()\"\"\""
   ]
  },
  {
   "cell_type": "code",
   "execution_count": null,
   "metadata": {},
   "outputs": [],
   "source": [
    "print(len(com[0]),\"x\",len(com[0][0]))"
   ]
  },
  {
   "cell_type": "code",
   "execution_count": 16,
   "metadata": {},
   "outputs": [],
   "source": [
    "from tensorflow.contrib.factorization.python.ops import clustering_ops\n",
    "import tensorflow as tf"
   ]
  },
  {
   "cell_type": "code",
   "execution_count": 17,
   "metadata": {},
   "outputs": [
    {
     "name": "stdout",
     "output_type": "stream",
     "text": [
      "WARNING:tensorflow:From <ipython-input-17-c289a4c56e95>:4: KMeansClustering.__init__ (from tensorflow.contrib.learn.python.learn.estimators.kmeans) is deprecated and will be removed in a future version.\n",
      "Instructions for updating:\n",
      "Please use tf.contrib.factorization.KMeansClustering instead of tf.contrib.learn.KMeansClustering. It has a similar interface, but uses the tf.estimator.Estimator API instead of tf.contrib.learn.Estimator.\n",
      "INFO:tensorflow:Using default config.\n",
      "WARNING:tensorflow:Using temporary folder as model directory: C:\\Users\\IS96273\\AppData\\Local\\Temp\\tmp9vanqhq3\n",
      "INFO:tensorflow:Using config: {'_save_summary_steps': 100, '_save_checkpoints_secs': 600, '_num_ps_replicas': 0, '_task_type': None, '_save_checkpoints_steps': None, '_model_dir': 'C:\\\\Users\\\\IS96273\\\\AppData\\\\Local\\\\Temp\\\\tmp9vanqhq3', '_evaluation_master': '', '_environment': 'local', '_is_chief': True, '_keep_checkpoint_max': 5, '_master': '', '_tf_config': gpu_options {\n",
      "  per_process_gpu_memory_fraction: 1\n",
      "}\n",
      ", '_session_config': None, '_tf_random_seed': None, '_task_id': 0, '_cluster_spec': <tensorflow.python.training.server_lib.ClusterSpec object at 0x000002C3ED75C518>, '_log_step_count_steps': 100, '_keep_checkpoint_every_n_hours': 10000, '_num_worker_replicas': 0}\n"
     ]
    }
   ],
   "source": [
    "unsupervised_model = tf.contrib.learn.KMeansClustering(\n",
    "    10\n",
    "    , distance_metric = clustering_ops.SQUARED_EUCLIDEAN_DISTANCE #SQUARED_EUCLIDEAN_DISTANCE, COSINE_DISTANCE\n",
    "    , initial_clusters=tf.contrib.learn.KMeansClustering.RANDOM_INIT\n",
    ")"
   ]
  },
  {
   "cell_type": "code",
   "execution_count": 18,
   "metadata": {},
   "outputs": [],
   "source": [
    "def train_input_fn():\n",
    "    data = tf.constant(com[0], tf.float32)\n",
    "    return (data, None)"
   ]
  },
  {
   "cell_type": "code",
   "execution_count": 19,
   "metadata": {},
   "outputs": [
    {
     "name": "stdout",
     "output_type": "stream",
     "text": [
      "WARNING:tensorflow:From C:\\Users\\IS96273\\AppData\\Local\\Continuum\\anaconda3\\envs\\tensorflow\\lib\\site-packages\\tensorflow\\contrib\\factorization\\python\\ops\\clustering_ops.py:196: calling reduce_sum (from tensorflow.python.ops.math_ops) with keep_dims is deprecated and will be removed in a future version.\n",
      "Instructions for updating:\n",
      "keep_dims is deprecated, use keepdims instead\n",
      "INFO:tensorflow:Create CheckpointSaverHook.\n",
      "INFO:tensorflow:Graph was finalized.\n",
      "INFO:tensorflow:Running local_init_op.\n",
      "INFO:tensorflow:Done running local_init_op.\n",
      "INFO:tensorflow:Saving checkpoints for 1 into C:\\Users\\IS96273\\AppData\\Local\\Temp\\tmp9vanqhq3\\model.ckpt.\n",
      "INFO:tensorflow:loss = 3.95821e+06, step = 1\n",
      "INFO:tensorflow:global_step/sec: 273.06\n",
      "INFO:tensorflow:loss = 2.47405e+06, step = 101 (0.368 sec)\n",
      "INFO:tensorflow:global_step/sec: 398.05\n",
      "INFO:tensorflow:loss = 2.46812e+06, step = 201 (0.252 sec)\n",
      "INFO:tensorflow:global_step/sec: 396.79\n",
      "INFO:tensorflow:loss = 2.46546e+06, step = 301 (0.251 sec)\n",
      "INFO:tensorflow:global_step/sec: 396.091\n",
      "INFO:tensorflow:loss = 2.46387e+06, step = 401 (0.252 sec)\n",
      "INFO:tensorflow:global_step/sec: 388.441\n",
      "INFO:tensorflow:loss = 2.4628e+06, step = 501 (0.258 sec)\n",
      "INFO:tensorflow:global_step/sec: 397.771\n",
      "INFO:tensorflow:loss = 2.46196e+06, step = 601 (0.250 sec)\n",
      "INFO:tensorflow:global_step/sec: 395.377\n",
      "INFO:tensorflow:loss = 2.46131e+06, step = 701 (0.254 sec)\n",
      "INFO:tensorflow:global_step/sec: 392.159\n",
      "INFO:tensorflow:loss = 2.4608e+06, step = 801 (0.255 sec)\n",
      "INFO:tensorflow:global_step/sec: 393.353\n",
      "INFO:tensorflow:loss = 2.46037e+06, step = 901 (0.253 sec)\n",
      "INFO:tensorflow:global_step/sec: 390.434\n",
      "INFO:tensorflow:loss = 2.46e+06, step = 1001 (0.256 sec)\n",
      "INFO:tensorflow:global_step/sec: 395.034\n",
      "INFO:tensorflow:loss = 2.45968e+06, step = 1101 (0.253 sec)\n",
      "INFO:tensorflow:global_step/sec: 393.083\n",
      "INFO:tensorflow:loss = 2.4594e+06, step = 1201 (0.255 sec)\n",
      "INFO:tensorflow:global_step/sec: 397.008\n",
      "INFO:tensorflow:loss = 2.45914e+06, step = 1301 (0.251 sec)\n",
      "INFO:tensorflow:global_step/sec: 396.176\n",
      "INFO:tensorflow:loss = 2.45889e+06, step = 1401 (0.253 sec)\n",
      "INFO:tensorflow:global_step/sec: 324.323\n",
      "INFO:tensorflow:loss = 2.45866e+06, step = 1501 (0.308 sec)\n",
      "INFO:tensorflow:global_step/sec: 388.253\n",
      "INFO:tensorflow:loss = 2.45843e+06, step = 1601 (0.257 sec)\n",
      "INFO:tensorflow:global_step/sec: 378.852\n",
      "INFO:tensorflow:loss = 2.45823e+06, step = 1701 (0.264 sec)\n",
      "INFO:tensorflow:global_step/sec: 386.104\n",
      "INFO:tensorflow:loss = 2.45804e+06, step = 1801 (0.259 sec)\n",
      "INFO:tensorflow:global_step/sec: 389.056\n",
      "INFO:tensorflow:loss = 2.45787e+06, step = 1901 (0.257 sec)\n",
      "INFO:tensorflow:global_step/sec: 401.391\n",
      "INFO:tensorflow:loss = 2.45771e+06, step = 2001 (0.250 sec)\n",
      "INFO:tensorflow:global_step/sec: 397.254\n",
      "INFO:tensorflow:loss = 2.45756e+06, step = 2101 (0.251 sec)\n",
      "INFO:tensorflow:global_step/sec: 336.225\n",
      "INFO:tensorflow:loss = 2.45742e+06, step = 2201 (0.298 sec)\n",
      "INFO:tensorflow:global_step/sec: 404.214\n",
      "INFO:tensorflow:loss = 2.45729e+06, step = 2301 (0.247 sec)\n",
      "INFO:tensorflow:global_step/sec: 398.745\n",
      "INFO:tensorflow:loss = 2.45717e+06, step = 2401 (0.251 sec)\n",
      "INFO:tensorflow:global_step/sec: 395.331\n",
      "INFO:tensorflow:loss = 2.45705e+06, step = 2501 (0.252 sec)\n",
      "INFO:tensorflow:global_step/sec: 396.783\n",
      "INFO:tensorflow:loss = 2.45695e+06, step = 2601 (0.253 sec)\n",
      "INFO:tensorflow:global_step/sec: 385.748\n",
      "INFO:tensorflow:loss = 2.45685e+06, step = 2701 (0.259 sec)\n",
      "INFO:tensorflow:global_step/sec: 389.109\n",
      "INFO:tensorflow:loss = 2.45676e+06, step = 2801 (0.256 sec)\n",
      "INFO:tensorflow:global_step/sec: 396.971\n",
      "INFO:tensorflow:loss = 2.45667e+06, step = 2901 (0.253 sec)\n",
      "INFO:tensorflow:global_step/sec: 392.834\n",
      "INFO:tensorflow:loss = 2.45659e+06, step = 3001 (0.254 sec)\n",
      "INFO:tensorflow:global_step/sec: 394.867\n",
      "INFO:tensorflow:loss = 2.45651e+06, step = 3101 (0.253 sec)\n",
      "INFO:tensorflow:global_step/sec: 391.606\n",
      "INFO:tensorflow:loss = 2.45644e+06, step = 3201 (0.255 sec)\n",
      "INFO:tensorflow:global_step/sec: 396.818\n",
      "INFO:tensorflow:loss = 2.45637e+06, step = 3301 (0.252 sec)\n",
      "INFO:tensorflow:global_step/sec: 390.741\n",
      "INFO:tensorflow:loss = 2.4563e+06, step = 3401 (0.256 sec)\n",
      "INFO:tensorflow:global_step/sec: 396.465\n",
      "INFO:tensorflow:loss = 2.45623e+06, step = 3501 (0.253 sec)\n",
      "INFO:tensorflow:global_step/sec: 395.43\n",
      "INFO:tensorflow:loss = 2.45616e+06, step = 3601 (0.253 sec)\n",
      "INFO:tensorflow:global_step/sec: 398.416\n",
      "INFO:tensorflow:loss = 2.4561e+06, step = 3701 (0.250 sec)\n",
      "INFO:tensorflow:global_step/sec: 399.761\n",
      "INFO:tensorflow:loss = 2.45604e+06, step = 3801 (0.250 sec)\n",
      "INFO:tensorflow:global_step/sec: 375.763\n",
      "INFO:tensorflow:loss = 2.45598e+06, step = 3901 (0.267 sec)\n",
      "INFO:tensorflow:global_step/sec: 351.316\n",
      "INFO:tensorflow:loss = 2.45593e+06, step = 4001 (0.284 sec)\n",
      "INFO:tensorflow:global_step/sec: 389.589\n",
      "INFO:tensorflow:loss = 2.45587e+06, step = 4101 (0.257 sec)\n",
      "INFO:tensorflow:global_step/sec: 380.946\n",
      "INFO:tensorflow:loss = 2.45582e+06, step = 4201 (0.262 sec)\n",
      "INFO:tensorflow:global_step/sec: 392.168\n",
      "INFO:tensorflow:loss = 2.45576e+06, step = 4301 (0.256 sec)\n",
      "INFO:tensorflow:global_step/sec: 390.761\n",
      "INFO:tensorflow:loss = 2.45571e+06, step = 4401 (0.256 sec)\n",
      "INFO:tensorflow:global_step/sec: 378.995\n",
      "INFO:tensorflow:loss = 2.45566e+06, step = 4501 (0.263 sec)\n",
      "INFO:tensorflow:global_step/sec: 392.597\n",
      "INFO:tensorflow:loss = 2.45561e+06, step = 4601 (0.256 sec)\n",
      "INFO:tensorflow:global_step/sec: 386.01\n",
      "INFO:tensorflow:loss = 2.45556e+06, step = 4701 (0.258 sec)\n",
      "INFO:tensorflow:global_step/sec: 381.368\n",
      "INFO:tensorflow:loss = 2.45551e+06, step = 4801 (0.263 sec)\n",
      "INFO:tensorflow:global_step/sec: 370.034\n",
      "INFO:tensorflow:loss = 2.45546e+06, step = 4901 (0.271 sec)\n",
      "INFO:tensorflow:Saving checkpoints for 5000 into C:\\Users\\IS96273\\AppData\\Local\\Temp\\tmp9vanqhq3\\model.ckpt.\n",
      "INFO:tensorflow:Loss for final step: 2.45542e+06.\n"
     ]
    },
    {
     "data": {
      "text/plain": [
       "KMeansClustering(params={'mini_batch_steps_per_iteration': 1, 'training_initial_clusters': 'random', 'distance_metric': 'squared_euclidean', 'use_mini_batch': True, 'relative_tolerance': None, 'kmeans_plus_plus_num_retries': 2, 'num_clusters': 10, 'random_seed': 0})"
      ]
     },
     "execution_count": 19,
     "metadata": {},
     "output_type": "execute_result"
    }
   ],
   "source": [
    "unsupervised_model.fit(input_fn=train_input_fn, steps=5000)"
   ]
  },
  {
   "cell_type": "code",
   "execution_count": 20,
   "metadata": {
    "scrolled": true
   },
   "outputs": [
    {
     "name": "stdout",
     "output_type": "stream",
     "text": [
      "INFO:tensorflow:Graph was finalized.\n",
      "INFO:tensorflow:Restoring parameters from C:\\Users\\IS96273\\AppData\\Local\\Temp\\tmp9vanqhq3\\model.ckpt-5000\n",
      "INFO:tensorflow:Running local_init_op.\n",
      "INFO:tensorflow:Done running local_init_op.\n",
      "following samples are clustered in same cluster:\n"
     ]
    },
    {
     "data": {
      "image/png": "[encoded data removed]",
      "text/plain": [
       "<matplotlib.figure.Figure at 0x2c3f4fadf60>"
      ]
     },
     "metadata": {},
     "output_type": "display_data"
    },
    {
     "data": {
      "image/png": "[encoded data removed]",
      "text/plain": [
       "<matplotlib.figure.Figure at 0x2c3f4918f98>"
      ]
     },
     "metadata": {},
     "output_type": "display_data"
    },
    {
     "data": {
      "image/png": "[encoded data removed]",
      "text/plain": [
       "<matplotlib.figure.Figure at 0x2c3f494edd8>"
      ]
     },
     "metadata": {},
     "output_type": "display_data"
    },
    {
     "data": {
      "image/png": "[encoded data removed]",
      "text/plain": [
       "<matplotlib.figure.Figure at 0x2c3f4766e48>"
      ]
     },
     "metadata": {},
     "output_type": "display_data"
    },
    {
     "data": {
      "image/png": "[encoded data removed]",
      "text/plain": [
       "<matplotlib.figure.Figure at 0x2c3f47a26d8>"
      ]
     },
     "metadata": {},
     "output_type": "display_data"
    },
    {
     "data": {
      "image/png": "[encoded data removed]",
      "text/plain": [
       "<matplotlib.figure.Figure at 0x2c3f4f6b278>"
      ]
     },
     "metadata": {},
     "output_type": "display_data"
    },
    {
     "data": {
      "image/png": "[encoded data removed]",
      "text/plain": [
       "<matplotlib.figure.Figure at 0x2c3f4fe4cc0>"
      ]
     },
     "metadata": {},
     "output_type": "display_data"
    },
    {
     "data": {
      "image/png": "[encoded data removed]",
      "text/plain": [
       "<matplotlib.figure.Figure at 0x2c3f501e240>"
      ]
     },
     "metadata": {},
     "output_type": "display_data"
    },
    {
     "data": {
      "image/png": "[encoded data removed]",
      "text/plain": [
       "<matplotlib.figure.Figure at 0x2c3f50595c0>"
      ]
     },
     "metadata": {},
     "output_type": "display_data"
    },
    {
     "data": {
      "image/png": "[encoded data removed]",
      "text/plain": [
       "<matplotlib.figure.Figure at 0x2c3f50916a0>"
      ]
     },
     "metadata": {},
     "output_type": "display_data"
    },
    {
     "data": {
      "image/png": "[encoded data removed]",
      "text/plain": [
       "<matplotlib.figure.Figure at 0x2c3f50cc240>"
      ]
     },
     "metadata": {},
     "output_type": "display_data"
    },
    {
     "data": {
      "image/png": "[encoded data removed]",
      "text/plain": [
       "<matplotlib.figure.Figure at 0x2c3f5103c88>"
      ]
     },
     "metadata": {},
     "output_type": "display_data"
    },
    {
     "data": {
      "image/png": "[encoded data removed]",
      "text/plain": [
       "<matplotlib.figure.Figure at 0x2c3f513f358>"
      ]
     },
     "metadata": {},
     "output_type": "display_data"
    },
    {
     "data": {
      "image/png": "[encoded data removed]",
      "text/plain": [
       "<matplotlib.figure.Figure at 0x2c3f5109f28>"
      ]
     },
     "metadata": {},
     "output_type": "display_data"
    },
    {
     "data": {
      "image/png": "[encoded data removed]",
      "text/plain": [
       "<matplotlib.figure.Figure at 0x2c3f50d9588>"
      ]
     },
     "metadata": {},
     "output_type": "display_data"
    },
    {
     "data": {
      "image/png": "[encoded data removed]",
      "text/plain": [
       "<matplotlib.figure.Figure at 0x2c3f5136358>"
      ]
     },
     "metadata": {},
     "output_type": "display_data"
    },
    {
     "data": {
      "image/png": "[encoded data removed]",
      "text/plain": [
       "<matplotlib.figure.Figure at 0x2c3f50e3e48>"
      ]
     },
     "metadata": {},
     "output_type": "display_data"
    }
   ],
   "source": [
    "clusters = unsupervised_model.predict(input_fn=train_input_fn)\n",
    "\n",
    "print(\"following samples are clustered in same cluster:\")\n",
    "\n",
    "index = 0\n",
    "for i in clusters:\n",
    "    \n",
    "    current_cluster = i['cluster_idx']\n",
    "    features = x_test[index]\n",
    "    \n",
    "    if index < 200 and current_cluster == 4:\n",
    "        plt.imshow(x_test[index].reshape(28, 28))\n",
    "        plt.gray()\n",
    "        plt.show()\n",
    "       \n",
    "    index = index + 1\n",
    "    "
   ]
  },
  {
   "cell_type": "code",
   "execution_count": null,
   "metadata": {},
   "outputs": [],
   "source": []
  }
 ],
 "metadata": {
  "kernelspec": {
   "display_name": "Python 3",
   "language": "python",
   "name": "python3"
  },
  "language_info": {
   "codemirror_mode": {
    "name": "ipython",
    "version": 3
   },
   "file_extension": ".py",
   "mimetype": "text/x-python",
   "name": "python",
   "nbconvert_exporter": "python",
   "pygments_lexer": "ipython3",
   "version": "3.5.4"
  }
 },
 "nbformat": 4,
 "nbformat_minor": 2
}
